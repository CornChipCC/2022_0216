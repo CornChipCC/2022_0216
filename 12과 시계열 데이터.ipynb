{
 "cells": [
  {
   "cell_type": "markdown",
   "id": "60779a9b",
   "metadata": {
    "id": "60779a9b"
   },
   "source": [
    "# 12과 시계열 데이터"
   ]
  },
  {
   "cell_type": "markdown",
   "id": "Or5xdnmzfzQu",
   "metadata": {
    "id": "Or5xdnmzfzQu"
   },
   "source": [
    "## 1.환경준비"
   ]
  },
  {
   "cell_type": "code",
   "execution_count": 1,
   "id": "0ff8f366",
   "metadata": {
    "id": "0ff8f366"
   },
   "outputs": [],
   "source": [
    "import pandas as pd\n",
    "import numpy as np\n",
    "import matplotlib.pyplot as plt\n",
    "import seaborn as sns\n",
    "\n",
    "import scipy.stats as spst"
   ]
  },
  {
   "cell_type": "markdown",
   "id": "5EacpNLD1Acp",
   "metadata": {
    "id": "5EacpNLD1Acp"
   },
   "source": [
    "* KOSPI 지수 데이터"
   ]
  },
  {
   "cell_type": "code",
   "execution_count": 2,
   "id": "477d4f97",
   "metadata": {
    "colab": {
     "base_uri": "https://localhost:8080/",
     "height": 206
    },
    "executionInfo": {
     "elapsed": 314,
     "status": "ok",
     "timestamp": 1644197863003,
     "user": {
      "displayName": "한기영",
      "photoUrl": "https://lh3.googleusercontent.com/a/default-user=s64",
      "userId": "13049187003176135487"
     },
     "user_tz": -540
    },
    "id": "477d4f97",
    "outputId": "e1e5c474-d040-445c-84f2-e4cd05b831a5",
    "scrolled": true
   },
   "outputs": [
    {
     "data": {
      "text/html": [
       "<div>\n",
       "<style scoped>\n",
       "    .dataframe tbody tr th:only-of-type {\n",
       "        vertical-align: middle;\n",
       "    }\n",
       "\n",
       "    .dataframe tbody tr th {\n",
       "        vertical-align: top;\n",
       "    }\n",
       "\n",
       "    .dataframe thead th {\n",
       "        text-align: right;\n",
       "    }\n",
       "</style>\n",
       "<table border=\"1\" class=\"dataframe\">\n",
       "  <thead>\n",
       "    <tr style=\"text-align: right;\">\n",
       "      <th></th>\n",
       "      <th>Date</th>\n",
       "      <th>Close</th>\n",
       "      <th>Year</th>\n",
       "      <th>Month</th>\n",
       "      <th>Weekday</th>\n",
       "      <th>Close_Lag</th>\n",
       "      <th>Volume_Lag</th>\n",
       "    </tr>\n",
       "  </thead>\n",
       "  <tbody>\n",
       "    <tr>\n",
       "      <th>1</th>\n",
       "      <td>2014-10-01</td>\n",
       "      <td>1991.54</td>\n",
       "      <td>2014</td>\n",
       "      <td>10</td>\n",
       "      <td>2</td>\n",
       "      <td>2020.09</td>\n",
       "      <td>322812.0</td>\n",
       "    </tr>\n",
       "    <tr>\n",
       "      <th>2</th>\n",
       "      <td>2014-10-02</td>\n",
       "      <td>1976.16</td>\n",
       "      <td>2014</td>\n",
       "      <td>10</td>\n",
       "      <td>3</td>\n",
       "      <td>1991.54</td>\n",
       "      <td>351581.0</td>\n",
       "    </tr>\n",
       "    <tr>\n",
       "      <th>3</th>\n",
       "      <td>2014-10-06</td>\n",
       "      <td>1968.39</td>\n",
       "      <td>2014</td>\n",
       "      <td>10</td>\n",
       "      <td>0</td>\n",
       "      <td>1976.16</td>\n",
       "      <td>322656.0</td>\n",
       "    </tr>\n",
       "    <tr>\n",
       "      <th>4</th>\n",
       "      <td>2014-10-07</td>\n",
       "      <td>1972.91</td>\n",
       "      <td>2014</td>\n",
       "      <td>10</td>\n",
       "      <td>1</td>\n",
       "      <td>1968.39</td>\n",
       "      <td>325078.0</td>\n",
       "    </tr>\n",
       "    <tr>\n",
       "      <th>5</th>\n",
       "      <td>2014-10-08</td>\n",
       "      <td>1965.25</td>\n",
       "      <td>2014</td>\n",
       "      <td>10</td>\n",
       "      <td>2</td>\n",
       "      <td>1972.91</td>\n",
       "      <td>328234.0</td>\n",
       "    </tr>\n",
       "  </tbody>\n",
       "</table>\n",
       "</div>"
      ],
      "text/plain": [
       "        Date    Close  Year  Month  Weekday  Close_Lag  Volume_Lag\n",
       "1 2014-10-01  1991.54  2014     10        2    2020.09    322812.0\n",
       "2 2014-10-02  1976.16  2014     10        3    1991.54    351581.0\n",
       "3 2014-10-06  1968.39  2014     10        0    1976.16    322656.0\n",
       "4 2014-10-07  1972.91  2014     10        1    1968.39    325078.0\n",
       "5 2014-10-08  1965.25  2014     10        2    1972.91    328234.0"
      ]
     },
     "execution_count": 2,
     "metadata": {},
     "output_type": "execute_result"
    }
   ],
   "source": [
    "data = pd.read_csv(\"https://raw.githubusercontent.com/DA4BAM/dataset/master/KOSPI.csv\"\n",
    "                   , usecols= ['Date', 'Close', 'Volume'])\n",
    "\n",
    "data['Date'] = pd.to_datetime(data['Date'])\n",
    "data['Year'] = data['Date'].dt.year\n",
    "data['Month'] = data['Date'].dt.month\n",
    "data['Weekday'] = data['Date'].dt.weekday\n",
    "\n",
    "data['Close_Lag'] = data['Close'].shift()\n",
    "data['Volume_Lag'] = data['Volume'].shift()\n",
    "data.drop('Volume', axis = 1, inplace = True)\n",
    "\n",
    "data.dropna(axis=0, inplace=True)\n",
    "\n",
    "data.head()"
   ]
  },
  {
   "cell_type": "markdown",
   "id": "6b742688",
   "metadata": {},
   "source": [
    "* 시계열 데이터의 전처리\n",
    "    * 날짜 타입 변환(pd.to_datetime) 후 날짜 요소 뽑기 : .dt.날짜요소\n",
    "        * to_datetime : https://pandas.pydata.org/docs/reference/api/pandas.to_datetime.html\n",
    "        * .dt.  : year, month, day, weekday, ...\n",
    "    * 전시점데이터 : .shift() : https://pandas.pydata.org/docs/reference/api/pandas.DataFrame.shift.html\n",
    "    * 이동평균 : .rolling().mean() : https://pandas.pydata.org/docs/reference/api/pandas.DataFrame.rolling.html"
   ]
  },
  {
   "cell_type": "markdown",
   "id": "57hByVZOf4CQ",
   "metadata": {
    "id": "57hByVZOf4CQ"
   },
   "source": [
    "## 2.시계열 데이터란?\n",
    "\n",
    "* 데이터셋\n",
    "    * 일반 데이터셋 : 분석단위(행) 하나 하나가 개별 instance 입니다.\n",
    "    * 시계열 데이터 : 데이터 분석 단위(행) 간에 (시간) 순서(sequence)가 있는 데이터\n",
    "\n",
    "* 시계열 데이터 구분은, 비즈니스 이해단계에서 [문제정의]시 결정 됩니다. \n",
    "    * 해결해야 할 문제가 시간 순서 관점이 필요한지 아닌지. \n"
   ]
  },
  {
   "cell_type": "markdown",
   "id": "bq7gmu2mjLN5",
   "metadata": {
    "id": "bq7gmu2mjLN5"
   },
   "source": [
    "* KOSPI 2014.10 ~ 2019.09 데이터\n",
    "    * Close : 코스피 종가(target)\n",
    "    * Weekday : 요일 (0-월요일, 6-일요일)\n",
    "    * Close_Lag : 전날 종가\n",
    "    * Volume_Lag : 전날 거래량"
   ]
  },
  {
   "cell_type": "code",
   "execution_count": null,
   "id": "ad6ee53d",
   "metadata": {
    "colab": {
     "base_uri": "https://localhost:8080/",
     "height": 483
    },
    "executionInfo": {
     "elapsed": 849,
     "status": "ok",
     "timestamp": 1644197869336,
     "user": {
      "displayName": "한기영",
      "photoUrl": "https://lh3.googleusercontent.com/a/default-user=s64",
      "userId": "13049187003176135487"
     },
     "user_tz": -540
    },
    "id": "ad6ee53d",
    "outputId": "3496b414-6e55-41aa-a2f2-3a34e5ff2103"
   },
   "outputs": [],
   "source": [
    "plt.figure(figsize = (12,8))\n",
    "plt.plot('Date', 'Close', data = data, linewidth = .7)\n",
    "plt.grid()\n",
    "plt.show()"
   ]
  },
  {
   "cell_type": "markdown",
   "id": "4b5OSagHjrb6",
   "metadata": {
    "id": "4b5OSagHjrb6"
   },
   "source": [
    "* 시계열 데이터는 시간(시기)을 고려해야 합니다.\n",
    "    * 어느 기간? \n",
    "    * 반복되는 주기?\n"
   ]
  },
  {
   "cell_type": "markdown",
   "id": "BwNXKTlPj6nK",
   "metadata": {
    "id": "BwNXKTlPj6nK"
   },
   "source": [
    "## 3.단변량"
   ]
  },
  {
   "cell_type": "markdown",
   "id": "SNDMcUqkkSr7",
   "metadata": {
    "id": "SNDMcUqkkSr7"
   },
   "source": [
    "### 1) 숫자"
   ]
  },
  {
   "cell_type": "markdown",
   "id": "vmf2kWcjj0iH",
   "metadata": {
    "id": "vmf2kWcjj0iH"
   },
   "source": [
    "* Close의 분포를 살펴보면…\n",
    "    * 하나의 박스플롯으로 설명이 되나요?\n",
    "    * 히스트그램을 보면 분포가 여러 개로 나뉘어 보입니다. 어떻게 해석해야 할까요?\n",
    "\n"
   ]
  },
  {
   "cell_type": "code",
   "execution_count": null,
   "id": "eb47b1c3",
   "metadata": {
    "id": "eb47b1c3"
   },
   "outputs": [],
   "source": [
    "plt.hist(data['Close'], bins = 100, edgecolor = 'grey')\n",
    "plt.show()"
   ]
  },
  {
   "cell_type": "code",
   "execution_count": null,
   "id": "f4c4df5f",
   "metadata": {
    "id": "f4c4df5f"
   },
   "outputs": [],
   "source": [
    "plt.boxplot(data['Close'], vert = False)\n",
    "plt.show()"
   ]
  },
  {
   "cell_type": "markdown",
   "id": "0xvhtBlLkHhp",
   "metadata": {
    "id": "0xvhtBlLkHhp"
   },
   "source": [
    "### 2) 범주"
   ]
  },
  {
   "cell_type": "code",
   "execution_count": null,
   "id": "6389834e",
   "metadata": {
    "id": "6389834e"
   },
   "outputs": [],
   "source": [
    "sns.countplot(x=\"Weekday\", data=data)\n",
    "plt.show()"
   ]
  },
  {
   "cell_type": "code",
   "execution_count": null,
   "id": "68f47092",
   "metadata": {
    "id": "68f47092"
   },
   "outputs": [],
   "source": [
    "temp = data['Weekday'].value_counts()\n",
    "\n",
    "plt.pie(temp.values, labels = temp.index, autopct='%.2f%%')\n",
    "plt.show()"
   ]
  },
  {
   "cell_type": "markdown",
   "id": "b0QVb1Mkkee3",
   "metadata": {
    "id": "b0QVb1Mkkee3"
   },
   "source": [
    "## 4.이변량"
   ]
  },
  {
   "cell_type": "markdown",
   "id": "f7QYmRxOkgY5",
   "metadata": {
    "id": "f7QYmRxOkgY5"
   },
   "source": [
    "### 1) 숫자 vs 숫자"
   ]
  },
  {
   "cell_type": "markdown",
   "id": "esNhqvDakkxL",
   "metadata": {
    "id": "esNhqvDakkxL"
   },
   "source": [
    "* 전날 종가와 오늘 종가를 비교해 보겠습니다.\n",
    "    * 산점도 : 완전 직선\n",
    "    * 상관분석 : 상관계수 거의 1, p-value 는 0!\n",
    "    * 그러면 전날 종가만 있으면 다음날 코스피 지수 예측은 확실한가요?"
   ]
  },
  {
   "cell_type": "code",
   "execution_count": null,
   "id": "7997469f",
   "metadata": {
    "id": "7997469f"
   },
   "outputs": [],
   "source": [
    "plt.scatter(data['Close_Lag'], data['Close'], alpha = .3)\n",
    "plt.show()"
   ]
  },
  {
   "cell_type": "code",
   "execution_count": null,
   "id": "0f400d5b",
   "metadata": {
    "id": "0f400d5b"
   },
   "outputs": [],
   "source": [
    "# 상관계수와 p-value \n",
    "spst.pearsonr(data['Close_Lag'], data['Close'])"
   ]
  },
  {
   "cell_type": "markdown",
   "id": "L_sSCGiiksnw",
   "metadata": {
    "id": "L_sSCGiiksnw"
   },
   "source": [
    "### 2) 범주 vs 숫자"
   ]
  },
  {
   "cell_type": "markdown",
   "id": "Tjgcr4LRkwgi",
   "metadata": {
    "id": "Tjgcr4LRkwgi"
   },
   "source": [
    "* 요일별로 주가가 달라질까요?\n",
    "    * 요일은 주가와 아무런 관련이 없어 보입니다.\n",
    "    * 진짜 그럴까요?"
   ]
  },
  {
   "cell_type": "code",
   "execution_count": null,
   "id": "3ef21a3c",
   "metadata": {
    "id": "3ef21a3c"
   },
   "outputs": [],
   "source": [
    "temp = data.loc[data.Date.between('2019-01-01','2019-01-31')]\n",
    "\n",
    "sns.barplot(x=\"Weekday\", y=\"Close\", data = temp)\n",
    "plt.show()"
   ]
  },
  {
   "cell_type": "markdown",
   "id": "bp5DzTpsk3YW",
   "metadata": {
    "id": "bp5DzTpsk3YW"
   },
   "source": [
    "## 5.해결을 위한 아이디어"
   ]
  },
  {
   "cell_type": "markdown",
   "id": "Ctp1f62TnW0Y",
   "metadata": {
    "id": "Ctp1f62TnW0Y"
   },
   "source": [
    "* 시계열 데이터를 smoothing 하여 그리기"
   ]
  },
  {
   "cell_type": "code",
   "execution_count": 19,
   "id": "t8CTAc0one6r",
   "metadata": {
    "id": "t8CTAc0one6r"
   },
   "outputs": [],
   "source": [
    "# 이동평균 변수 만들기\n",
    "data['Close_MA'] = data['Close'].rolling(20).mean()"
   ]
  },
  {
   "cell_type": "code",
   "execution_count": 20,
   "id": "deb11c9e",
   "metadata": {
    "id": "deb11c9e"
   },
   "outputs": [
    {
     "data": {
      "image/png": "[encoded data removed]",
      "text/plain": [
       "<Figure size 1008x432 with 2 Axes>"
      ]
     },
     "metadata": {
      "needs_background": "light"
     },
     "output_type": "display_data"
    }
   ],
   "source": [
    "plt.figure(figsize = (14,6))\n",
    "plt.subplot(1,2,1)\n",
    "plt.plot('Date', 'Close', data = data, linewidth = .7)\n",
    "\n",
    "plt.subplot(1,2,2)\n",
    "plt.plot('Date', 'Close_MA', data = data, linewidth = .7)\n",
    "plt.show()\n"
   ]
  },
  {
   "cell_type": "markdown",
   "id": "atDe8JfNn_Eq",
   "metadata": {
    "id": "atDe8JfNn_Eq"
   },
   "source": [
    "* 이전 데이터 대비 증감으로 분석하기"
   ]
  },
  {
   "cell_type": "code",
   "execution_count": null,
   "id": "93571d89",
   "metadata": {
    "id": "93571d89"
   },
   "outputs": [],
   "source": [
    "# 데이터 차분(difference) 데이터를 만들고\n",
    "data['diff'] = data['Close'] - data['Close_Lag']"
   ]
  },
  {
   "cell_type": "code",
   "execution_count": 24,
   "id": "64af0ec4",
   "metadata": {
    "id": "64af0ec4"
   },
   "outputs": [
    {
     "data": {
      "image/png": "[encoded data removed]",
      "text/plain": [
       "<Figure size 1008x432 with 2 Axes>"
      ]
     },
     "metadata": {
      "needs_background": "light"
     },
     "output_type": "display_data"
    }
   ],
   "source": [
    "# 그래프를 그리면, 이전과 다른 새로운 관점의 그래프를 얻을 수 있습니다.\n",
    "\n",
    "plt.figure(figsize = (14,6))\n",
    "plt.subplot(1,2,1)\n",
    "plt.hist(data['Close'], bins = 100, edgecolor = 'grey')\n",
    "\n",
    "plt.subplot(1,2,2)\n",
    "plt.hist(data['Dif_Close'], bins = 100, edgecolor = 'grey')\n",
    "plt.show()\n"
   ]
  },
  {
   "cell_type": "markdown",
   "id": "GezHLJGe1Q4P",
   "metadata": {
    "id": "GezHLJGe1Q4P"
   },
   "source": [
    "# 종합실습"
   ]
  },
  {
   "cell_type": "markdown",
   "id": "xz86PWE51Q4Q",
   "metadata": {
    "id": "xz86PWE51Q4Q"
   },
   "source": [
    "## 1.환경준비"
   ]
  },
  {
   "cell_type": "code",
   "execution_count": 3,
   "id": "UdYyx96d1Q4Q",
   "metadata": {
    "id": "UdYyx96d1Q4Q"
   },
   "outputs": [],
   "source": [
    "import pandas as pd\n",
    "import numpy as np\n",
    "import matplotlib.pyplot as plt\n",
    "import seaborn as sns\n",
    "\n",
    "import scipy.stats as spst"
   ]
  },
  {
   "cell_type": "code",
   "execution_count": 4,
   "id": "VWKcNx_W1Q4R",
   "metadata": {
    "colab": {
     "base_uri": "https://localhost:8080/",
     "height": 206
    },
    "executionInfo": {
     "elapsed": 1023,
     "status": "ok",
     "timestamp": 1640762690089,
     "user": {
      "displayName": "한기영",
      "photoUrl": "https://lh3.googleusercontent.com/a/default-user=s64",
      "userId": "13049187003176135487"
     },
     "user_tz": -540
    },
    "id": "VWKcNx_W1Q4R",
    "outputId": "59421e5e-4aef-452f-9228-a1de1df4ecba"
   },
   "outputs": [
    {
     "data": {
      "text/html": [
       "<div>\n",
       "<style scoped>\n",
       "    .dataframe tbody tr th:only-of-type {\n",
       "        vertical-align: middle;\n",
       "    }\n",
       "\n",
       "    .dataframe tbody tr th {\n",
       "        vertical-align: top;\n",
       "    }\n",
       "\n",
       "    .dataframe thead th {\n",
       "        text-align: right;\n",
       "    }\n",
       "</style>\n",
       "<table border=\"1\" class=\"dataframe\">\n",
       "  <thead>\n",
       "    <tr style=\"text-align: right;\">\n",
       "      <th></th>\n",
       "      <th>Date</th>\n",
       "      <th>Close</th>\n",
       "      <th>Volume</th>\n",
       "      <th>Close_Lag</th>\n",
       "      <th>Volume_Lag</th>\n",
       "    </tr>\n",
       "  </thead>\n",
       "  <tbody>\n",
       "    <tr>\n",
       "      <th>1</th>\n",
       "      <td>2014-10-01</td>\n",
       "      <td>1991.54</td>\n",
       "      <td>351581</td>\n",
       "      <td>2020.09</td>\n",
       "      <td>322812.0</td>\n",
       "    </tr>\n",
       "    <tr>\n",
       "      <th>2</th>\n",
       "      <td>2014-10-02</td>\n",
       "      <td>1976.16</td>\n",
       "      <td>322656</td>\n",
       "      <td>1991.54</td>\n",
       "      <td>351581.0</td>\n",
       "    </tr>\n",
       "    <tr>\n",
       "      <th>3</th>\n",
       "      <td>2014-10-06</td>\n",
       "      <td>1968.39</td>\n",
       "      <td>325078</td>\n",
       "      <td>1976.16</td>\n",
       "      <td>322656.0</td>\n",
       "    </tr>\n",
       "    <tr>\n",
       "      <th>4</th>\n",
       "      <td>2014-10-07</td>\n",
       "      <td>1972.91</td>\n",
       "      <td>328234</td>\n",
       "      <td>1968.39</td>\n",
       "      <td>325078.0</td>\n",
       "    </tr>\n",
       "    <tr>\n",
       "      <th>5</th>\n",
       "      <td>2014-10-08</td>\n",
       "      <td>1965.25</td>\n",
       "      <td>266180</td>\n",
       "      <td>1972.91</td>\n",
       "      <td>328234.0</td>\n",
       "    </tr>\n",
       "  </tbody>\n",
       "</table>\n",
       "</div>"
      ],
      "text/plain": [
       "        Date    Close  Volume  Close_Lag  Volume_Lag\n",
       "1 2014-10-01  1991.54  351581    2020.09    322812.0\n",
       "2 2014-10-02  1976.16  322656    1991.54    351581.0\n",
       "3 2014-10-06  1968.39  325078    1976.16    322656.0\n",
       "4 2014-10-07  1972.91  328234    1968.39    325078.0\n",
       "5 2014-10-08  1965.25  266180    1972.91    328234.0"
      ]
     },
     "execution_count": 4,
     "metadata": {},
     "output_type": "execute_result"
    }
   ],
   "source": [
    "data = pd.read_csv(\"https://raw.githubusercontent.com/DA4BAM/dataset/master/KOSPI.csv\"\n",
    "                   , usecols= ['Date', 'Close', 'Volume'])\n",
    "\n",
    "data['Date'] = pd.to_datetime(data['Date'])\n",
    "data['Close_Lag'] = data['Close'].shift()\n",
    "data['Volume_Lag'] = data['Volume'].shift()\n",
    "\n",
    "data.dropna(axis=0, inplace=True)\n",
    "\n",
    "data.head()"
   ]
  },
  {
   "cell_type": "markdown",
   "id": "iqvokp4M1Q4R",
   "metadata": {
    "id": "iqvokp4M1Q4R"
   },
   "source": [
    "## 2.시계열 분석을 위한 추가 변수를 만들어 봅시다."
   ]
  },
  {
   "cell_type": "markdown",
   "id": "Glx_gngyAX3d",
   "metadata": {
    "id": "Glx_gngyAX3d"
   },
   "source": [
    "① 전일 주가 대비 차이"
   ]
  },
  {
   "cell_type": "code",
   "execution_count": 13,
   "id": "KKyTksi6Ac4c",
   "metadata": {
    "id": "KKyTksi6Ac4c"
   },
   "outputs": [],
   "source": [
    "data['Dif_Close'] = data['Close_Lag'] - data ['Close']"
   ]
  },
  {
   "cell_type": "markdown",
   "id": "N2LK7T-sAdft",
   "metadata": {
    "id": "N2LK7T-sAdft"
   },
   "source": [
    "② 전일주가 대비 ①의 비율(증감율) "
   ]
  },
  {
   "cell_type": "code",
   "execution_count": 21,
   "id": "X-8xi9m9AnG4",
   "metadata": {
    "id": "X-8xi9m9AnG4"
   },
   "outputs": [
    {
     "data": {
      "text/html": [
       "<div>\n",
       "<style scoped>\n",
       "    .dataframe tbody tr th:only-of-type {\n",
       "        vertical-align: middle;\n",
       "    }\n",
       "\n",
       "    .dataframe tbody tr th {\n",
       "        vertical-align: top;\n",
       "    }\n",
       "\n",
       "    .dataframe thead th {\n",
       "        text-align: right;\n",
       "    }\n",
       "</style>\n",
       "<table border=\"1\" class=\"dataframe\">\n",
       "  <thead>\n",
       "    <tr style=\"text-align: right;\">\n",
       "      <th></th>\n",
       "      <th>Date</th>\n",
       "      <th>Close</th>\n",
       "      <th>Volume</th>\n",
       "      <th>Close_Lag</th>\n",
       "      <th>Volume_Lag</th>\n",
       "      <th>Dif</th>\n",
       "      <th>Dif_Per</th>\n",
       "      <th>Dif_Close</th>\n",
       "      <th>Dif_Close_Per</th>\n",
       "      <th>Dif_Vol</th>\n",
       "      <th>Dif_Vol_Per</th>\n",
       "      <th>Close_MA</th>\n",
       "    </tr>\n",
       "  </thead>\n",
       "  <tbody>\n",
       "    <tr>\n",
       "      <th>1</th>\n",
       "      <td>2014-10-01</td>\n",
       "      <td>1991.54</td>\n",
       "      <td>351581</td>\n",
       "      <td>2020.09</td>\n",
       "      <td>322812.0</td>\n",
       "      <td>28.55</td>\n",
       "      <td>1.433564</td>\n",
       "      <td>28.55</td>\n",
       "      <td>1.433564</td>\n",
       "      <td>-28769.0</td>\n",
       "      <td>-8.182752</td>\n",
       "      <td>NaN</td>\n",
       "    </tr>\n",
       "    <tr>\n",
       "      <th>2</th>\n",
       "      <td>2014-10-02</td>\n",
       "      <td>1976.16</td>\n",
       "      <td>322656</td>\n",
       "      <td>1991.54</td>\n",
       "      <td>351581.0</td>\n",
       "      <td>15.38</td>\n",
       "      <td>0.778277</td>\n",
       "      <td>15.38</td>\n",
       "      <td>0.778277</td>\n",
       "      <td>28925.0</td>\n",
       "      <td>8.964656</td>\n",
       "      <td>NaN</td>\n",
       "    </tr>\n",
       "    <tr>\n",
       "      <th>3</th>\n",
       "      <td>2014-10-06</td>\n",
       "      <td>1968.39</td>\n",
       "      <td>325078</td>\n",
       "      <td>1976.16</td>\n",
       "      <td>322656.0</td>\n",
       "      <td>7.77</td>\n",
       "      <td>0.394739</td>\n",
       "      <td>7.77</td>\n",
       "      <td>0.394739</td>\n",
       "      <td>-2422.0</td>\n",
       "      <td>-0.745052</td>\n",
       "      <td>NaN</td>\n",
       "    </tr>\n",
       "    <tr>\n",
       "      <th>4</th>\n",
       "      <td>2014-10-07</td>\n",
       "      <td>1972.91</td>\n",
       "      <td>328234</td>\n",
       "      <td>1968.39</td>\n",
       "      <td>325078.0</td>\n",
       "      <td>-4.52</td>\n",
       "      <td>-0.229103</td>\n",
       "      <td>-4.52</td>\n",
       "      <td>-0.229103</td>\n",
       "      <td>-3156.0</td>\n",
       "      <td>-0.961509</td>\n",
       "      <td>NaN</td>\n",
       "    </tr>\n",
       "    <tr>\n",
       "      <th>5</th>\n",
       "      <td>2014-10-08</td>\n",
       "      <td>1965.25</td>\n",
       "      <td>266180</td>\n",
       "      <td>1972.91</td>\n",
       "      <td>328234.0</td>\n",
       "      <td>7.66</td>\n",
       "      <td>0.389772</td>\n",
       "      <td>7.66</td>\n",
       "      <td>0.389772</td>\n",
       "      <td>62054.0</td>\n",
       "      <td>23.312796</td>\n",
       "      <td>NaN</td>\n",
       "    </tr>\n",
       "  </tbody>\n",
       "</table>\n",
       "</div>"
      ],
      "text/plain": [
       "        Date    Close  Volume  Close_Lag  Volume_Lag    Dif   Dif_Per  \\\n",
       "1 2014-10-01  1991.54  351581    2020.09    322812.0  28.55  1.433564   \n",
       "2 2014-10-02  1976.16  322656    1991.54    351581.0  15.38  0.778277   \n",
       "3 2014-10-06  1968.39  325078    1976.16    322656.0   7.77  0.394739   \n",
       "4 2014-10-07  1972.91  328234    1968.39    325078.0  -4.52 -0.229103   \n",
       "5 2014-10-08  1965.25  266180    1972.91    328234.0   7.66  0.389772   \n",
       "\n",
       "   Dif_Close  Dif_Close_Per  Dif_Vol  Dif_Vol_Per  Close_MA  \n",
       "1      28.55       1.433564 -28769.0    -8.182752       NaN  \n",
       "2      15.38       0.778277  28925.0     8.964656       NaN  \n",
       "3       7.77       0.394739  -2422.0    -0.745052       NaN  \n",
       "4      -4.52      -0.229103  -3156.0    -0.961509       NaN  \n",
       "5       7.66       0.389772  62054.0    23.312796       NaN  "
      ]
     },
     "execution_count": 21,
     "metadata": {},
     "output_type": "execute_result"
    }
   ],
   "source": [
    "data['Dif_Close_Per'] = (data['Close_Lag'] / data ['Close'] - 1) *100\n",
    "\n",
    "data.head()"
   ]
  },
  {
   "cell_type": "markdown",
   "id": "MzcgfzgrAnqn",
   "metadata": {
    "id": "MzcgfzgrAnqn"
   },
   "source": [
    "③ 전일 거래량 대비 차이"
   ]
  },
  {
   "cell_type": "code",
   "execution_count": 15,
   "id": "CFBmZIfNAszT",
   "metadata": {
    "id": "CFBmZIfNAszT"
   },
   "outputs": [],
   "source": [
    "data['Dif_Vol'] = data['Volume_Lag'] - data ['Volume']"
   ]
  },
  {
   "cell_type": "markdown",
   "id": "6S0DNsPZCfGb",
   "metadata": {
    "id": "6S0DNsPZCfGb"
   },
   "source": [
    "④ 전일 거래량 대비 ③의 비율(증감율) "
   ]
  },
  {
   "cell_type": "code",
   "execution_count": 18,
   "id": "IuD1UnikCfGd",
   "metadata": {
    "id": "IuD1UnikCfGd"
   },
   "outputs": [
    {
     "data": {
      "text/html": [
       "<div>\n",
       "<style scoped>\n",
       "    .dataframe tbody tr th:only-of-type {\n",
       "        vertical-align: middle;\n",
       "    }\n",
       "\n",
       "    .dataframe tbody tr th {\n",
       "        vertical-align: top;\n",
       "    }\n",
       "\n",
       "    .dataframe thead th {\n",
       "        text-align: right;\n",
       "    }\n",
       "</style>\n",
       "<table border=\"1\" class=\"dataframe\">\n",
       "  <thead>\n",
       "    <tr style=\"text-align: right;\">\n",
       "      <th></th>\n",
       "      <th>Date</th>\n",
       "      <th>Close</th>\n",
       "      <th>Volume</th>\n",
       "      <th>Close_Lag</th>\n",
       "      <th>Volume_Lag</th>\n",
       "      <th>Dif</th>\n",
       "      <th>Dif_Per</th>\n",
       "      <th>Dif_Close</th>\n",
       "      <th>Dif_Close_Per</th>\n",
       "      <th>Dif_Vol</th>\n",
       "      <th>Dif_Vol_Per</th>\n",
       "    </tr>\n",
       "  </thead>\n",
       "  <tbody>\n",
       "    <tr>\n",
       "      <th>1</th>\n",
       "      <td>2014-10-01</td>\n",
       "      <td>1991.54</td>\n",
       "      <td>351581</td>\n",
       "      <td>2020.09</td>\n",
       "      <td>322812.0</td>\n",
       "      <td>28.55</td>\n",
       "      <td>1.433564</td>\n",
       "      <td>28.55</td>\n",
       "      <td>1.433564</td>\n",
       "      <td>-28769.0</td>\n",
       "      <td>-8.182752</td>\n",
       "    </tr>\n",
       "    <tr>\n",
       "      <th>2</th>\n",
       "      <td>2014-10-02</td>\n",
       "      <td>1976.16</td>\n",
       "      <td>322656</td>\n",
       "      <td>1991.54</td>\n",
       "      <td>351581.0</td>\n",
       "      <td>15.38</td>\n",
       "      <td>0.778277</td>\n",
       "      <td>15.38</td>\n",
       "      <td>0.778277</td>\n",
       "      <td>28925.0</td>\n",
       "      <td>8.964656</td>\n",
       "    </tr>\n",
       "    <tr>\n",
       "      <th>3</th>\n",
       "      <td>2014-10-06</td>\n",
       "      <td>1968.39</td>\n",
       "      <td>325078</td>\n",
       "      <td>1976.16</td>\n",
       "      <td>322656.0</td>\n",
       "      <td>7.77</td>\n",
       "      <td>0.394739</td>\n",
       "      <td>7.77</td>\n",
       "      <td>0.394739</td>\n",
       "      <td>-2422.0</td>\n",
       "      <td>-0.745052</td>\n",
       "    </tr>\n",
       "    <tr>\n",
       "      <th>4</th>\n",
       "      <td>2014-10-07</td>\n",
       "      <td>1972.91</td>\n",
       "      <td>328234</td>\n",
       "      <td>1968.39</td>\n",
       "      <td>325078.0</td>\n",
       "      <td>-4.52</td>\n",
       "      <td>-0.229103</td>\n",
       "      <td>-4.52</td>\n",
       "      <td>-0.229103</td>\n",
       "      <td>-3156.0</td>\n",
       "      <td>-0.961509</td>\n",
       "    </tr>\n",
       "    <tr>\n",
       "      <th>5</th>\n",
       "      <td>2014-10-08</td>\n",
       "      <td>1965.25</td>\n",
       "      <td>266180</td>\n",
       "      <td>1972.91</td>\n",
       "      <td>328234.0</td>\n",
       "      <td>7.66</td>\n",
       "      <td>0.389772</td>\n",
       "      <td>7.66</td>\n",
       "      <td>0.389772</td>\n",
       "      <td>62054.0</td>\n",
       "      <td>23.312796</td>\n",
       "    </tr>\n",
       "  </tbody>\n",
       "</table>\n",
       "</div>"
      ],
      "text/plain": [
       "        Date    Close  Volume  Close_Lag  Volume_Lag    Dif   Dif_Per  \\\n",
       "1 2014-10-01  1991.54  351581    2020.09    322812.0  28.55  1.433564   \n",
       "2 2014-10-02  1976.16  322656    1991.54    351581.0  15.38  0.778277   \n",
       "3 2014-10-06  1968.39  325078    1976.16    322656.0   7.77  0.394739   \n",
       "4 2014-10-07  1972.91  328234    1968.39    325078.0  -4.52 -0.229103   \n",
       "5 2014-10-08  1965.25  266180    1972.91    328234.0   7.66  0.389772   \n",
       "\n",
       "   Dif_Close  Dif_Close_Per  Dif_Vol  Dif_Vol_Per  \n",
       "1      28.55       1.433564 -28769.0    -8.182752  \n",
       "2      15.38       0.778277  28925.0     8.964656  \n",
       "3       7.77       0.394739  -2422.0    -0.745052  \n",
       "4      -4.52      -0.229103  -3156.0    -0.961509  \n",
       "5       7.66       0.389772  62054.0    23.312796  "
      ]
     },
     "execution_count": 18,
     "metadata": {},
     "output_type": "execute_result"
    }
   ],
   "source": [
    "data['Dif_Vol_Per'] = (data['Volume_Lag'] / data ['Volume'] - 1) *100\n",
    "\n",
    "data.head()"
   ]
  },
  {
   "cell_type": "markdown",
   "id": "Qzbbe-mZCyZJ",
   "metadata": {
    "id": "Qzbbe-mZCyZJ"
   },
   "source": [
    "⑤ 최근 20일 이동평균 주가"
   ]
  },
  {
   "cell_type": "code",
   "execution_count": 22,
   "id": "klAnBb1UCyZK",
   "metadata": {
    "id": "klAnBb1UCyZK"
   },
   "outputs": [
    {
     "data": {
      "text/html": [
       "<div>\n",
       "<style scoped>\n",
       "    .dataframe tbody tr th:only-of-type {\n",
       "        vertical-align: middle;\n",
       "    }\n",
       "\n",
       "    .dataframe tbody tr th {\n",
       "        vertical-align: top;\n",
       "    }\n",
       "\n",
       "    .dataframe thead th {\n",
       "        text-align: right;\n",
       "    }\n",
       "</style>\n",
       "<table border=\"1\" class=\"dataframe\">\n",
       "  <thead>\n",
       "    <tr style=\"text-align: right;\">\n",
       "      <th></th>\n",
       "      <th>Date</th>\n",
       "      <th>Close</th>\n",
       "      <th>Volume</th>\n",
       "      <th>Close_Lag</th>\n",
       "      <th>Volume_Lag</th>\n",
       "      <th>Dif</th>\n",
       "      <th>Dif_Per</th>\n",
       "      <th>Dif_Close</th>\n",
       "      <th>Dif_Close_Per</th>\n",
       "      <th>Dif_Vol</th>\n",
       "      <th>Dif_Vol_Per</th>\n",
       "      <th>Close_MA</th>\n",
       "    </tr>\n",
       "  </thead>\n",
       "  <tbody>\n",
       "    <tr>\n",
       "      <th>1208</th>\n",
       "      <td>2019-08-30</td>\n",
       "      <td>1967.79</td>\n",
       "      <td>317733</td>\n",
       "      <td>1933.41</td>\n",
       "      <td>285103.0</td>\n",
       "      <td>-34.38</td>\n",
       "      <td>-1.747138</td>\n",
       "      <td>-34.38</td>\n",
       "      <td>-1.747138</td>\n",
       "      <td>-32630.0</td>\n",
       "      <td>-10.269629</td>\n",
       "      <td>1940.5825</td>\n",
       "    </tr>\n",
       "    <tr>\n",
       "      <th>1209</th>\n",
       "      <td>2019-09-02</td>\n",
       "      <td>1969.19</td>\n",
       "      <td>262154</td>\n",
       "      <td>1967.79</td>\n",
       "      <td>317733.0</td>\n",
       "      <td>-1.40</td>\n",
       "      <td>-0.071095</td>\n",
       "      <td>-1.40</td>\n",
       "      <td>-0.071095</td>\n",
       "      <td>55579.0</td>\n",
       "      <td>21.200897</td>\n",
       "      <td>1939.1355</td>\n",
       "    </tr>\n",
       "    <tr>\n",
       "      <th>1210</th>\n",
       "      <td>2019-09-03</td>\n",
       "      <td>1965.69</td>\n",
       "      <td>342077</td>\n",
       "      <td>1969.19</td>\n",
       "      <td>262154.0</td>\n",
       "      <td>3.50</td>\n",
       "      <td>0.178055</td>\n",
       "      <td>3.50</td>\n",
       "      <td>0.178055</td>\n",
       "      <td>-79923.0</td>\n",
       "      <td>-23.364038</td>\n",
       "      <td>1940.0710</td>\n",
       "    </tr>\n",
       "    <tr>\n",
       "      <th>1211</th>\n",
       "      <td>2019-09-04</td>\n",
       "      <td>1988.53</td>\n",
       "      <td>348722</td>\n",
       "      <td>1965.69</td>\n",
       "      <td>342077.0</td>\n",
       "      <td>-22.84</td>\n",
       "      <td>-1.148587</td>\n",
       "      <td>-22.84</td>\n",
       "      <td>-1.148587</td>\n",
       "      <td>-6645.0</td>\n",
       "      <td>-1.905529</td>\n",
       "      <td>1943.6225</td>\n",
       "    </tr>\n",
       "    <tr>\n",
       "      <th>1212</th>\n",
       "      <td>2019-09-05</td>\n",
       "      <td>2004.75</td>\n",
       "      <td>488067</td>\n",
       "      <td>1988.53</td>\n",
       "      <td>348722.0</td>\n",
       "      <td>-16.22</td>\n",
       "      <td>-0.809078</td>\n",
       "      <td>-16.22</td>\n",
       "      <td>-0.809078</td>\n",
       "      <td>-139345.0</td>\n",
       "      <td>-28.550383</td>\n",
       "      <td>1948.3745</td>\n",
       "    </tr>\n",
       "    <tr>\n",
       "      <th>1213</th>\n",
       "      <td>2019-09-06</td>\n",
       "      <td>2009.13</td>\n",
       "      <td>384440</td>\n",
       "      <td>2004.75</td>\n",
       "      <td>488067.0</td>\n",
       "      <td>-4.38</td>\n",
       "      <td>-0.218005</td>\n",
       "      <td>-4.38</td>\n",
       "      <td>-0.218005</td>\n",
       "      <td>103627.0</td>\n",
       "      <td>26.955312</td>\n",
       "      <td>1952.8005</td>\n",
       "    </tr>\n",
       "    <tr>\n",
       "      <th>1214</th>\n",
       "      <td>2019-09-09</td>\n",
       "      <td>2019.55</td>\n",
       "      <td>511821</td>\n",
       "      <td>2009.13</td>\n",
       "      <td>384440.0</td>\n",
       "      <td>-10.42</td>\n",
       "      <td>-0.515957</td>\n",
       "      <td>-10.42</td>\n",
       "      <td>-0.515957</td>\n",
       "      <td>-127381.0</td>\n",
       "      <td>-24.887803</td>\n",
       "      <td>1956.8905</td>\n",
       "    </tr>\n",
       "    <tr>\n",
       "      <th>1215</th>\n",
       "      <td>2019-09-10</td>\n",
       "      <td>2032.08</td>\n",
       "      <td>504390</td>\n",
       "      <td>2019.55</td>\n",
       "      <td>511821.0</td>\n",
       "      <td>-12.53</td>\n",
       "      <td>-0.616610</td>\n",
       "      <td>-12.53</td>\n",
       "      <td>-0.616610</td>\n",
       "      <td>7431.0</td>\n",
       "      <td>1.473265</td>\n",
       "      <td>1961.3800</td>\n",
       "    </tr>\n",
       "    <tr>\n",
       "      <th>1216</th>\n",
       "      <td>2019-09-11</td>\n",
       "      <td>2049.20</td>\n",
       "      <td>429075</td>\n",
       "      <td>2032.08</td>\n",
       "      <td>504390.0</td>\n",
       "      <td>-17.12</td>\n",
       "      <td>-0.835448</td>\n",
       "      <td>-17.12</td>\n",
       "      <td>-0.835448</td>\n",
       "      <td>75315.0</td>\n",
       "      <td>17.552875</td>\n",
       "      <td>1967.5485</td>\n",
       "    </tr>\n",
       "    <tr>\n",
       "      <th>1217</th>\n",
       "      <td>2019-09-16</td>\n",
       "      <td>2062.22</td>\n",
       "      <td>493516</td>\n",
       "      <td>2049.20</td>\n",
       "      <td>429075.0</td>\n",
       "      <td>-13.02</td>\n",
       "      <td>-0.631358</td>\n",
       "      <td>-13.02</td>\n",
       "      <td>-0.631358</td>\n",
       "      <td>-64441.0</td>\n",
       "      <td>-13.057530</td>\n",
       "      <td>1973.7410</td>\n",
       "    </tr>\n",
       "    <tr>\n",
       "      <th>1218</th>\n",
       "      <td>2019-09-17</td>\n",
       "      <td>2062.33</td>\n",
       "      <td>507995</td>\n",
       "      <td>2062.22</td>\n",
       "      <td>493516.0</td>\n",
       "      <td>-0.11</td>\n",
       "      <td>-0.005334</td>\n",
       "      <td>-0.11</td>\n",
       "      <td>-0.005334</td>\n",
       "      <td>-14479.0</td>\n",
       "      <td>-2.850225</td>\n",
       "      <td>1980.4990</td>\n",
       "    </tr>\n",
       "    <tr>\n",
       "      <th>1219</th>\n",
       "      <td>2019-09-18</td>\n",
       "      <td>2070.73</td>\n",
       "      <td>613147</td>\n",
       "      <td>2062.33</td>\n",
       "      <td>507995.0</td>\n",
       "      <td>-8.40</td>\n",
       "      <td>-0.405654</td>\n",
       "      <td>-8.40</td>\n",
       "      <td>-0.405654</td>\n",
       "      <td>-105152.0</td>\n",
       "      <td>-17.149558</td>\n",
       "      <td>1987.0405</td>\n",
       "    </tr>\n",
       "    <tr>\n",
       "      <th>1220</th>\n",
       "      <td>2019-09-19</td>\n",
       "      <td>2080.35</td>\n",
       "      <td>493037</td>\n",
       "      <td>2070.73</td>\n",
       "      <td>613147.0</td>\n",
       "      <td>-9.62</td>\n",
       "      <td>-0.462422</td>\n",
       "      <td>-9.62</td>\n",
       "      <td>-0.462422</td>\n",
       "      <td>120110.0</td>\n",
       "      <td>24.361255</td>\n",
       "      <td>1993.0455</td>\n",
       "    </tr>\n",
       "    <tr>\n",
       "      <th>1221</th>\n",
       "      <td>2019-09-20</td>\n",
       "      <td>2091.52</td>\n",
       "      <td>589919</td>\n",
       "      <td>2080.35</td>\n",
       "      <td>493037.0</td>\n",
       "      <td>-11.17</td>\n",
       "      <td>-0.534061</td>\n",
       "      <td>-11.17</td>\n",
       "      <td>-0.534061</td>\n",
       "      <td>-96882.0</td>\n",
       "      <td>-16.422933</td>\n",
       "      <td>1999.3890</td>\n",
       "    </tr>\n",
       "    <tr>\n",
       "      <th>1222</th>\n",
       "      <td>2019-09-23</td>\n",
       "      <td>2091.70</td>\n",
       "      <td>420948</td>\n",
       "      <td>2091.52</td>\n",
       "      <td>589919.0</td>\n",
       "      <td>-0.18</td>\n",
       "      <td>-0.008605</td>\n",
       "      <td>-0.18</td>\n",
       "      <td>-0.008605</td>\n",
       "      <td>168971.0</td>\n",
       "      <td>40.140587</td>\n",
       "      <td>2006.4235</td>\n",
       "    </tr>\n",
       "    <tr>\n",
       "      <th>1223</th>\n",
       "      <td>2019-09-24</td>\n",
       "      <td>2101.04</td>\n",
       "      <td>535771</td>\n",
       "      <td>2091.70</td>\n",
       "      <td>420948.0</td>\n",
       "      <td>-9.34</td>\n",
       "      <td>-0.444542</td>\n",
       "      <td>-9.34</td>\n",
       "      <td>-0.444542</td>\n",
       "      <td>-114823.0</td>\n",
       "      <td>-21.431358</td>\n",
       "      <td>2014.0605</td>\n",
       "    </tr>\n",
       "    <tr>\n",
       "      <th>1224</th>\n",
       "      <td>2019-09-25</td>\n",
       "      <td>2073.39</td>\n",
       "      <td>651551</td>\n",
       "      <td>2101.04</td>\n",
       "      <td>535771.0</td>\n",
       "      <td>27.65</td>\n",
       "      <td>1.333565</td>\n",
       "      <td>27.65</td>\n",
       "      <td>1.333565</td>\n",
       "      <td>-115780.0</td>\n",
       "      <td>-17.769906</td>\n",
       "      <td>2021.9145</td>\n",
       "    </tr>\n",
       "    <tr>\n",
       "      <th>1225</th>\n",
       "      <td>2019-09-26</td>\n",
       "      <td>2074.52</td>\n",
       "      <td>430577</td>\n",
       "      <td>2073.39</td>\n",
       "      <td>651551.0</td>\n",
       "      <td>-1.13</td>\n",
       "      <td>-0.054470</td>\n",
       "      <td>-1.13</td>\n",
       "      <td>-0.054470</td>\n",
       "      <td>220974.0</td>\n",
       "      <td>51.320437</td>\n",
       "      <td>2029.4105</td>\n",
       "    </tr>\n",
       "    <tr>\n",
       "      <th>1226</th>\n",
       "      <td>2019-09-27</td>\n",
       "      <td>2049.93</td>\n",
       "      <td>285943</td>\n",
       "      <td>2074.52</td>\n",
       "      <td>430577.0</td>\n",
       "      <td>24.59</td>\n",
       "      <td>1.199553</td>\n",
       "      <td>24.59</td>\n",
       "      <td>1.199553</td>\n",
       "      <td>144634.0</td>\n",
       "      <td>50.581410</td>\n",
       "      <td>2034.8525</td>\n",
       "    </tr>\n",
       "    <tr>\n",
       "      <th>1227</th>\n",
       "      <td>2019-09-30</td>\n",
       "      <td>2063.05</td>\n",
       "      <td>327625</td>\n",
       "      <td>2049.93</td>\n",
       "      <td>285943.0</td>\n",
       "      <td>-13.12</td>\n",
       "      <td>-0.635952</td>\n",
       "      <td>-13.12</td>\n",
       "      <td>-0.635952</td>\n",
       "      <td>-41682.0</td>\n",
       "      <td>-12.722472</td>\n",
       "      <td>2041.3345</td>\n",
       "    </tr>\n",
       "  </tbody>\n",
       "</table>\n",
       "</div>"
      ],
      "text/plain": [
       "           Date    Close  Volume  Close_Lag  Volume_Lag    Dif   Dif_Per  \\\n",
       "1208 2019-08-30  1967.79  317733    1933.41    285103.0 -34.38 -1.747138   \n",
       "1209 2019-09-02  1969.19  262154    1967.79    317733.0  -1.40 -0.071095   \n",
       "1210 2019-09-03  1965.69  342077    1969.19    262154.0   3.50  0.178055   \n",
       "1211 2019-09-04  1988.53  348722    1965.69    342077.0 -22.84 -1.148587   \n",
       "1212 2019-09-05  2004.75  488067    1988.53    348722.0 -16.22 -0.809078   \n",
       "1213 2019-09-06  2009.13  384440    2004.75    488067.0  -4.38 -0.218005   \n",
       "1214 2019-09-09  2019.55  511821    2009.13    384440.0 -10.42 -0.515957   \n",
       "1215 2019-09-10  2032.08  504390    2019.55    511821.0 -12.53 -0.616610   \n",
       "1216 2019-09-11  2049.20  429075    2032.08    504390.0 -17.12 -0.835448   \n",
       "1217 2019-09-16  2062.22  493516    2049.20    429075.0 -13.02 -0.631358   \n",
       "1218 2019-09-17  2062.33  507995    2062.22    493516.0  -0.11 -0.005334   \n",
       "1219 2019-09-18  2070.73  613147    2062.33    507995.0  -8.40 -0.405654   \n",
       "1220 2019-09-19  2080.35  493037    2070.73    613147.0  -9.62 -0.462422   \n",
       "1221 2019-09-20  2091.52  589919    2080.35    493037.0 -11.17 -0.534061   \n",
       "1222 2019-09-23  2091.70  420948    2091.52    589919.0  -0.18 -0.008605   \n",
       "1223 2019-09-24  2101.04  535771    2091.70    420948.0  -9.34 -0.444542   \n",
       "1224 2019-09-25  2073.39  651551    2101.04    535771.0  27.65  1.333565   \n",
       "1225 2019-09-26  2074.52  430577    2073.39    651551.0  -1.13 -0.054470   \n",
       "1226 2019-09-27  2049.93  285943    2074.52    430577.0  24.59  1.199553   \n",
       "1227 2019-09-30  2063.05  327625    2049.93    285943.0 -13.12 -0.635952   \n",
       "\n",
       "      Dif_Close  Dif_Close_Per   Dif_Vol  Dif_Vol_Per   Close_MA  \n",
       "1208     -34.38      -1.747138  -32630.0   -10.269629  1940.5825  \n",
       "1209      -1.40      -0.071095   55579.0    21.200897  1939.1355  \n",
       "1210       3.50       0.178055  -79923.0   -23.364038  1940.0710  \n",
       "1211     -22.84      -1.148587   -6645.0    -1.905529  1943.6225  \n",
       "1212     -16.22      -0.809078 -139345.0   -28.550383  1948.3745  \n",
       "1213      -4.38      -0.218005  103627.0    26.955312  1952.8005  \n",
       "1214     -10.42      -0.515957 -127381.0   -24.887803  1956.8905  \n",
       "1215     -12.53      -0.616610    7431.0     1.473265  1961.3800  \n",
       "1216     -17.12      -0.835448   75315.0    17.552875  1967.5485  \n",
       "1217     -13.02      -0.631358  -64441.0   -13.057530  1973.7410  \n",
       "1218      -0.11      -0.005334  -14479.0    -2.850225  1980.4990  \n",
       "1219      -8.40      -0.405654 -105152.0   -17.149558  1987.0405  \n",
       "1220      -9.62      -0.462422  120110.0    24.361255  1993.0455  \n",
       "1221     -11.17      -0.534061  -96882.0   -16.422933  1999.3890  \n",
       "1222      -0.18      -0.008605  168971.0    40.140587  2006.4235  \n",
       "1223      -9.34      -0.444542 -114823.0   -21.431358  2014.0605  \n",
       "1224      27.65       1.333565 -115780.0   -17.769906  2021.9145  \n",
       "1225      -1.13      -0.054470  220974.0    51.320437  2029.4105  \n",
       "1226      24.59       1.199553  144634.0    50.581410  2034.8525  \n",
       "1227     -13.12      -0.635952  -41682.0   -12.722472  2041.3345  "
      ]
     },
     "execution_count": 22,
     "metadata": {},
     "output_type": "execute_result"
    }
   ],
   "source": [
    "data.tail(20)"
   ]
  },
  {
   "cell_type": "markdown",
   "id": "UXGETI71CypX",
   "metadata": {
    "id": "UXGETI71CypX"
   },
   "source": [
    "⑥ 최근 20일 이동평균 거래량"
   ]
  },
  {
   "cell_type": "code",
   "execution_count": 25,
   "id": "rxL5TVBhCypZ",
   "metadata": {
    "id": "rxL5TVBhCypZ"
   },
   "outputs": [
    {
     "data": {
      "text/html": [
       "<div>\n",
       "<style scoped>\n",
       "    .dataframe tbody tr th:only-of-type {\n",
       "        vertical-align: middle;\n",
       "    }\n",
       "\n",
       "    .dataframe tbody tr th {\n",
       "        vertical-align: top;\n",
       "    }\n",
       "\n",
       "    .dataframe thead th {\n",
       "        text-align: right;\n",
       "    }\n",
       "</style>\n",
       "<table border=\"1\" class=\"dataframe\">\n",
       "  <thead>\n",
       "    <tr style=\"text-align: right;\">\n",
       "      <th></th>\n",
       "      <th>Date</th>\n",
       "      <th>Close</th>\n",
       "      <th>Volume</th>\n",
       "      <th>Close_Lag</th>\n",
       "      <th>Volume_Lag</th>\n",
       "      <th>Dif</th>\n",
       "      <th>Dif_Per</th>\n",
       "      <th>Dif_Close</th>\n",
       "      <th>Dif_Close_Per</th>\n",
       "      <th>Dif_Vol</th>\n",
       "      <th>Dif_Vol_Per</th>\n",
       "      <th>Close_MA</th>\n",
       "      <th>Volume_MA</th>\n",
       "    </tr>\n",
       "  </thead>\n",
       "  <tbody>\n",
       "    <tr>\n",
       "      <th>1208</th>\n",
       "      <td>2019-08-30</td>\n",
       "      <td>1967.79</td>\n",
       "      <td>317733</td>\n",
       "      <td>1933.41</td>\n",
       "      <td>285103.0</td>\n",
       "      <td>-34.38</td>\n",
       "      <td>-1.747138</td>\n",
       "      <td>-34.38</td>\n",
       "      <td>-1.747138</td>\n",
       "      <td>-32630.0</td>\n",
       "      <td>-10.269629</td>\n",
       "      <td>1940.5825</td>\n",
       "      <td>500519.00</td>\n",
       "    </tr>\n",
       "    <tr>\n",
       "      <th>1209</th>\n",
       "      <td>2019-09-02</td>\n",
       "      <td>1969.19</td>\n",
       "      <td>262154</td>\n",
       "      <td>1967.79</td>\n",
       "      <td>317733.0</td>\n",
       "      <td>-1.40</td>\n",
       "      <td>-0.071095</td>\n",
       "      <td>-1.40</td>\n",
       "      <td>-0.071095</td>\n",
       "      <td>55579.0</td>\n",
       "      <td>21.200897</td>\n",
       "      <td>1939.1355</td>\n",
       "      <td>491699.80</td>\n",
       "    </tr>\n",
       "    <tr>\n",
       "      <th>1210</th>\n",
       "      <td>2019-09-03</td>\n",
       "      <td>1965.69</td>\n",
       "      <td>342077</td>\n",
       "      <td>1969.19</td>\n",
       "      <td>262154.0</td>\n",
       "      <td>3.50</td>\n",
       "      <td>0.178055</td>\n",
       "      <td>3.50</td>\n",
       "      <td>0.178055</td>\n",
       "      <td>-79923.0</td>\n",
       "      <td>-23.364038</td>\n",
       "      <td>1940.0710</td>\n",
       "      <td>476823.50</td>\n",
       "    </tr>\n",
       "    <tr>\n",
       "      <th>1211</th>\n",
       "      <td>2019-09-04</td>\n",
       "      <td>1988.53</td>\n",
       "      <td>348722</td>\n",
       "      <td>1965.69</td>\n",
       "      <td>342077.0</td>\n",
       "      <td>-22.84</td>\n",
       "      <td>-1.148587</td>\n",
       "      <td>-22.84</td>\n",
       "      <td>-1.148587</td>\n",
       "      <td>-6645.0</td>\n",
       "      <td>-1.905529</td>\n",
       "      <td>1943.6225</td>\n",
       "      <td>457280.20</td>\n",
       "    </tr>\n",
       "    <tr>\n",
       "      <th>1212</th>\n",
       "      <td>2019-09-05</td>\n",
       "      <td>2004.75</td>\n",
       "      <td>488067</td>\n",
       "      <td>1988.53</td>\n",
       "      <td>348722.0</td>\n",
       "      <td>-16.22</td>\n",
       "      <td>-0.809078</td>\n",
       "      <td>-16.22</td>\n",
       "      <td>-0.809078</td>\n",
       "      <td>-139345.0</td>\n",
       "      <td>-28.550383</td>\n",
       "      <td>1948.3745</td>\n",
       "      <td>443644.70</td>\n",
       "    </tr>\n",
       "    <tr>\n",
       "      <th>1213</th>\n",
       "      <td>2019-09-06</td>\n",
       "      <td>2009.13</td>\n",
       "      <td>384440</td>\n",
       "      <td>2004.75</td>\n",
       "      <td>488067.0</td>\n",
       "      <td>-4.38</td>\n",
       "      <td>-0.218005</td>\n",
       "      <td>-4.38</td>\n",
       "      <td>-0.218005</td>\n",
       "      <td>103627.0</td>\n",
       "      <td>26.955312</td>\n",
       "      <td>1952.8005</td>\n",
       "      <td>424008.45</td>\n",
       "    </tr>\n",
       "    <tr>\n",
       "      <th>1214</th>\n",
       "      <td>2019-09-09</td>\n",
       "      <td>2019.55</td>\n",
       "      <td>511821</td>\n",
       "      <td>2009.13</td>\n",
       "      <td>384440.0</td>\n",
       "      <td>-10.42</td>\n",
       "      <td>-0.515957</td>\n",
       "      <td>-10.42</td>\n",
       "      <td>-0.515957</td>\n",
       "      <td>-127381.0</td>\n",
       "      <td>-24.887803</td>\n",
       "      <td>1956.8905</td>\n",
       "      <td>416882.30</td>\n",
       "    </tr>\n",
       "    <tr>\n",
       "      <th>1215</th>\n",
       "      <td>2019-09-10</td>\n",
       "      <td>2032.08</td>\n",
       "      <td>504390</td>\n",
       "      <td>2019.55</td>\n",
       "      <td>511821.0</td>\n",
       "      <td>-12.53</td>\n",
       "      <td>-0.616610</td>\n",
       "      <td>-12.53</td>\n",
       "      <td>-0.616610</td>\n",
       "      <td>7431.0</td>\n",
       "      <td>1.473265</td>\n",
       "      <td>1961.3800</td>\n",
       "      <td>420744.80</td>\n",
       "    </tr>\n",
       "    <tr>\n",
       "      <th>1216</th>\n",
       "      <td>2019-09-11</td>\n",
       "      <td>2049.20</td>\n",
       "      <td>429075</td>\n",
       "      <td>2032.08</td>\n",
       "      <td>504390.0</td>\n",
       "      <td>-17.12</td>\n",
       "      <td>-0.835448</td>\n",
       "      <td>-17.12</td>\n",
       "      <td>-0.835448</td>\n",
       "      <td>75315.0</td>\n",
       "      <td>17.552875</td>\n",
       "      <td>1967.5485</td>\n",
       "      <td>409196.55</td>\n",
       "    </tr>\n",
       "    <tr>\n",
       "      <th>1217</th>\n",
       "      <td>2019-09-16</td>\n",
       "      <td>2062.22</td>\n",
       "      <td>493516</td>\n",
       "      <td>2049.20</td>\n",
       "      <td>429075.0</td>\n",
       "      <td>-13.02</td>\n",
       "      <td>-0.631358</td>\n",
       "      <td>-13.02</td>\n",
       "      <td>-0.631358</td>\n",
       "      <td>-64441.0</td>\n",
       "      <td>-13.057530</td>\n",
       "      <td>1973.7410</td>\n",
       "      <td>398893.10</td>\n",
       "    </tr>\n",
       "    <tr>\n",
       "      <th>1218</th>\n",
       "      <td>2019-09-17</td>\n",
       "      <td>2062.33</td>\n",
       "      <td>507995</td>\n",
       "      <td>2062.22</td>\n",
       "      <td>493516.0</td>\n",
       "      <td>-0.11</td>\n",
       "      <td>-0.005334</td>\n",
       "      <td>-0.11</td>\n",
       "      <td>-0.005334</td>\n",
       "      <td>-14479.0</td>\n",
       "      <td>-2.850225</td>\n",
       "      <td>1980.4990</td>\n",
       "      <td>403208.75</td>\n",
       "    </tr>\n",
       "    <tr>\n",
       "      <th>1219</th>\n",
       "      <td>2019-09-18</td>\n",
       "      <td>2070.73</td>\n",
       "      <td>613147</td>\n",
       "      <td>2062.33</td>\n",
       "      <td>507995.0</td>\n",
       "      <td>-8.40</td>\n",
       "      <td>-0.405654</td>\n",
       "      <td>-8.40</td>\n",
       "      <td>-0.405654</td>\n",
       "      <td>-105152.0</td>\n",
       "      <td>-17.149558</td>\n",
       "      <td>1987.0405</td>\n",
       "      <td>409815.00</td>\n",
       "    </tr>\n",
       "    <tr>\n",
       "      <th>1220</th>\n",
       "      <td>2019-09-19</td>\n",
       "      <td>2080.35</td>\n",
       "      <td>493037</td>\n",
       "      <td>2070.73</td>\n",
       "      <td>613147.0</td>\n",
       "      <td>-9.62</td>\n",
       "      <td>-0.462422</td>\n",
       "      <td>-9.62</td>\n",
       "      <td>-0.462422</td>\n",
       "      <td>120110.0</td>\n",
       "      <td>24.361255</td>\n",
       "      <td>1993.0455</td>\n",
       "      <td>411286.65</td>\n",
       "    </tr>\n",
       "    <tr>\n",
       "      <th>1221</th>\n",
       "      <td>2019-09-20</td>\n",
       "      <td>2091.52</td>\n",
       "      <td>589919</td>\n",
       "      <td>2080.35</td>\n",
       "      <td>493037.0</td>\n",
       "      <td>-11.17</td>\n",
       "      <td>-0.534061</td>\n",
       "      <td>-11.17</td>\n",
       "      <td>-0.534061</td>\n",
       "      <td>-96882.0</td>\n",
       "      <td>-16.422933</td>\n",
       "      <td>1999.3890</td>\n",
       "      <td>421204.25</td>\n",
       "    </tr>\n",
       "    <tr>\n",
       "      <th>1222</th>\n",
       "      <td>2019-09-23</td>\n",
       "      <td>2091.70</td>\n",
       "      <td>420948</td>\n",
       "      <td>2091.52</td>\n",
       "      <td>589919.0</td>\n",
       "      <td>-0.18</td>\n",
       "      <td>-0.008605</td>\n",
       "      <td>-0.18</td>\n",
       "      <td>-0.008605</td>\n",
       "      <td>168971.0</td>\n",
       "      <td>40.140587</td>\n",
       "      <td>2006.4235</td>\n",
       "      <td>420473.45</td>\n",
       "    </tr>\n",
       "    <tr>\n",
       "      <th>1223</th>\n",
       "      <td>2019-09-24</td>\n",
       "      <td>2101.04</td>\n",
       "      <td>535771</td>\n",
       "      <td>2091.70</td>\n",
       "      <td>420948.0</td>\n",
       "      <td>-9.34</td>\n",
       "      <td>-0.444542</td>\n",
       "      <td>-9.34</td>\n",
       "      <td>-0.444542</td>\n",
       "      <td>-114823.0</td>\n",
       "      <td>-21.431358</td>\n",
       "      <td>2014.0605</td>\n",
       "      <td>428207.70</td>\n",
       "    </tr>\n",
       "    <tr>\n",
       "      <th>1224</th>\n",
       "      <td>2019-09-25</td>\n",
       "      <td>2073.39</td>\n",
       "      <td>651551</td>\n",
       "      <td>2101.04</td>\n",
       "      <td>535771.0</td>\n",
       "      <td>27.65</td>\n",
       "      <td>1.333565</td>\n",
       "      <td>27.65</td>\n",
       "      <td>1.333565</td>\n",
       "      <td>-115780.0</td>\n",
       "      <td>-17.769906</td>\n",
       "      <td>2021.9145</td>\n",
       "      <td>444542.60</td>\n",
       "    </tr>\n",
       "    <tr>\n",
       "      <th>1225</th>\n",
       "      <td>2019-09-26</td>\n",
       "      <td>2074.52</td>\n",
       "      <td>430577</td>\n",
       "      <td>2073.39</td>\n",
       "      <td>651551.0</td>\n",
       "      <td>-1.13</td>\n",
       "      <td>-0.054470</td>\n",
       "      <td>-1.13</td>\n",
       "      <td>-0.054470</td>\n",
       "      <td>220974.0</td>\n",
       "      <td>51.320437</td>\n",
       "      <td>2029.4105</td>\n",
       "      <td>444719.35</td>\n",
       "    </tr>\n",
       "    <tr>\n",
       "      <th>1226</th>\n",
       "      <td>2019-09-27</td>\n",
       "      <td>2049.93</td>\n",
       "      <td>285943</td>\n",
       "      <td>2074.52</td>\n",
       "      <td>430577.0</td>\n",
       "      <td>24.59</td>\n",
       "      <td>1.199553</td>\n",
       "      <td>24.59</td>\n",
       "      <td>1.199553</td>\n",
       "      <td>144634.0</td>\n",
       "      <td>50.581410</td>\n",
       "      <td>2034.8525</td>\n",
       "      <td>444799.30</td>\n",
       "    </tr>\n",
       "    <tr>\n",
       "      <th>1227</th>\n",
       "      <td>2019-09-30</td>\n",
       "      <td>2063.05</td>\n",
       "      <td>327625</td>\n",
       "      <td>2049.93</td>\n",
       "      <td>285943.0</td>\n",
       "      <td>-13.12</td>\n",
       "      <td>-0.635952</td>\n",
       "      <td>-13.12</td>\n",
       "      <td>-0.635952</td>\n",
       "      <td>-41682.0</td>\n",
       "      <td>-12.722472</td>\n",
       "      <td>2041.3345</td>\n",
       "      <td>446925.40</td>\n",
       "    </tr>\n",
       "  </tbody>\n",
       "</table>\n",
       "</div>"
      ],
      "text/plain": [
       "           Date    Close  Volume  Close_Lag  Volume_Lag    Dif   Dif_Per  \\\n",
       "1208 2019-08-30  1967.79  317733    1933.41    285103.0 -34.38 -1.747138   \n",
       "1209 2019-09-02  1969.19  262154    1967.79    317733.0  -1.40 -0.071095   \n",
       "1210 2019-09-03  1965.69  342077    1969.19    262154.0   3.50  0.178055   \n",
       "1211 2019-09-04  1988.53  348722    1965.69    342077.0 -22.84 -1.148587   \n",
       "1212 2019-09-05  2004.75  488067    1988.53    348722.0 -16.22 -0.809078   \n",
       "1213 2019-09-06  2009.13  384440    2004.75    488067.0  -4.38 -0.218005   \n",
       "1214 2019-09-09  2019.55  511821    2009.13    384440.0 -10.42 -0.515957   \n",
       "1215 2019-09-10  2032.08  504390    2019.55    511821.0 -12.53 -0.616610   \n",
       "1216 2019-09-11  2049.20  429075    2032.08    504390.0 -17.12 -0.835448   \n",
       "1217 2019-09-16  2062.22  493516    2049.20    429075.0 -13.02 -0.631358   \n",
       "1218 2019-09-17  2062.33  507995    2062.22    493516.0  -0.11 -0.005334   \n",
       "1219 2019-09-18  2070.73  613147    2062.33    507995.0  -8.40 -0.405654   \n",
       "1220 2019-09-19  2080.35  493037    2070.73    613147.0  -9.62 -0.462422   \n",
       "1221 2019-09-20  2091.52  589919    2080.35    493037.0 -11.17 -0.534061   \n",
       "1222 2019-09-23  2091.70  420948    2091.52    589919.0  -0.18 -0.008605   \n",
       "1223 2019-09-24  2101.04  535771    2091.70    420948.0  -9.34 -0.444542   \n",
       "1224 2019-09-25  2073.39  651551    2101.04    535771.0  27.65  1.333565   \n",
       "1225 2019-09-26  2074.52  430577    2073.39    651551.0  -1.13 -0.054470   \n",
       "1226 2019-09-27  2049.93  285943    2074.52    430577.0  24.59  1.199553   \n",
       "1227 2019-09-30  2063.05  327625    2049.93    285943.0 -13.12 -0.635952   \n",
       "\n",
       "      Dif_Close  Dif_Close_Per   Dif_Vol  Dif_Vol_Per   Close_MA  Volume_MA  \n",
       "1208     -34.38      -1.747138  -32630.0   -10.269629  1940.5825  500519.00  \n",
       "1209      -1.40      -0.071095   55579.0    21.200897  1939.1355  491699.80  \n",
       "1210       3.50       0.178055  -79923.0   -23.364038  1940.0710  476823.50  \n",
       "1211     -22.84      -1.148587   -6645.0    -1.905529  1943.6225  457280.20  \n",
       "1212     -16.22      -0.809078 -139345.0   -28.550383  1948.3745  443644.70  \n",
       "1213      -4.38      -0.218005  103627.0    26.955312  1952.8005  424008.45  \n",
       "1214     -10.42      -0.515957 -127381.0   -24.887803  1956.8905  416882.30  \n",
       "1215     -12.53      -0.616610    7431.0     1.473265  1961.3800  420744.80  \n",
       "1216     -17.12      -0.835448   75315.0    17.552875  1967.5485  409196.55  \n",
       "1217     -13.02      -0.631358  -64441.0   -13.057530  1973.7410  398893.10  \n",
       "1218      -0.11      -0.005334  -14479.0    -2.850225  1980.4990  403208.75  \n",
       "1219      -8.40      -0.405654 -105152.0   -17.149558  1987.0405  409815.00  \n",
       "1220      -9.62      -0.462422  120110.0    24.361255  1993.0455  411286.65  \n",
       "1221     -11.17      -0.534061  -96882.0   -16.422933  1999.3890  421204.25  \n",
       "1222      -0.18      -0.008605  168971.0    40.140587  2006.4235  420473.45  \n",
       "1223      -9.34      -0.444542 -114823.0   -21.431358  2014.0605  428207.70  \n",
       "1224      27.65       1.333565 -115780.0   -17.769906  2021.9145  444542.60  \n",
       "1225      -1.13      -0.054470  220974.0    51.320437  2029.4105  444719.35  \n",
       "1226      24.59       1.199553  144634.0    50.581410  2034.8525  444799.30  \n",
       "1227     -13.12      -0.635952  -41682.0   -12.722472  2041.3345  446925.40  "
      ]
     },
     "execution_count": 25,
     "metadata": {},
     "output_type": "execute_result"
    }
   ],
   "source": [
    "data['Volume_MA'] = data['Volume'].rolling(20).mean()\n",
    "\n",
    "data.tail(20)"
   ]
  },
  {
   "cell_type": "markdown",
   "id": "C52Pg_8w1Q4T",
   "metadata": {
    "id": "C52Pg_8w1Q4T"
   },
   "source": [
    "## 3.시계열 데이터를 smoothing 하여 그리기"
   ]
  },
  {
   "cell_type": "markdown",
   "id": "VmPj2Dhz1Q4U",
   "metadata": {
    "id": "VmPj2Dhz1Q4U"
   },
   "source": [
    "① 주가, 이동평균 주가 그래프를 각각 그리기"
   ]
  },
  {
   "cell_type": "code",
   "execution_count": null,
   "id": "r5vCc5O61Q4U",
   "metadata": {
    "colab": {
     "base_uri": "https://localhost:8080/",
     "height": 374
    },
    "executionInfo": {
     "elapsed": 9,
     "status": "ok",
     "timestamp": 1640762702124,
     "user": {
      "displayName": "한기영",
      "photoUrl": "https://lh3.googleusercontent.com/a/default-user=s64",
      "userId": "13049187003176135487"
     },
     "user_tz": -540
    },
    "id": "r5vCc5O61Q4U",
    "outputId": "cdc5963c-f522-4126-8cf8-821212a56156"
   },
   "outputs": [],
   "source": []
  },
  {
   "cell_type": "markdown",
   "id": "q31ybq8NEcJr",
   "metadata": {
    "id": "q31ybq8NEcJr"
   },
   "source": [
    "② 거래량, 이동평균 거래량 그래프를 각각 그리기"
   ]
  },
  {
   "cell_type": "code",
   "execution_count": null,
   "id": "arlKzknEEcJy",
   "metadata": {
    "colab": {
     "base_uri": "https://localhost:8080/",
     "height": 385
    },
    "executionInfo": {
     "elapsed": 1169,
     "status": "ok",
     "timestamp": 1640762715270,
     "user": {
      "displayName": "한기영",
      "photoUrl": "https://lh3.googleusercontent.com/a/default-user=s64",
      "userId": "13049187003176135487"
     },
     "user_tz": -540
    },
    "id": "arlKzknEEcJy",
    "outputId": "8459f978-036e-4e03-975c-0811a4bbda3f"
   },
   "outputs": [],
   "source": []
  },
  {
   "cell_type": "markdown",
   "id": "qOdI94fTFIy_",
   "metadata": {
    "id": "qOdI94fTFIy_"
   },
   "source": [
    "### 4. 전일 대비 증감 데이터로 분석하기"
   ]
  },
  {
   "cell_type": "markdown",
   "id": "WsYP37SeFIzB",
   "metadata": {
    "id": "WsYP37SeFIzB"
   },
   "source": [
    "① 주가 데이터, 전일 대비 주가 증감, 증감율 비교하는 히스토그램 그리기"
   ]
  },
  {
   "cell_type": "code",
   "execution_count": null,
   "id": "fjt6pMKl1Q4V",
   "metadata": {
    "colab": {
     "base_uri": "https://localhost:8080/",
     "height": 389
    },
    "executionInfo": {
     "elapsed": 12875,
     "status": "ok",
     "timestamp": 1640763133056,
     "user": {
      "displayName": "한기영",
      "photoUrl": "https://lh3.googleusercontent.com/a/default-user=s64",
      "userId": "13049187003176135487"
     },
     "user_tz": -540
    },
    "id": "fjt6pMKl1Q4V",
    "outputId": "35fb2cef-ddbb-4980-d58f-2e5258ada401"
   },
   "outputs": [],
   "source": []
  },
  {
   "cell_type": "markdown",
   "id": "C25h428MF32H",
   "metadata": {
    "id": "C25h428MF32H"
   },
   "source": [
    "* 추가로 무엇을 / 어떻게 분석을 해볼 수 있을까요?"
   ]
  },
  {
   "cell_type": "code",
   "execution_count": null,
   "id": "wjH0S_GAGTHN",
   "metadata": {
    "id": "wjH0S_GAGTHN"
   },
   "outputs": [],
   "source": []
  },
  {
   "cell_type": "markdown",
   "id": "W-1TlrUmGU4r",
   "metadata": {
    "id": "W-1TlrUmGU4r"
   },
   "source": [
    "② 거래량 데이터, 전일 대비 증감, 증감율 비교하는 히스토그램 그리기"
   ]
  },
  {
   "cell_type": "code",
   "execution_count": null,
   "id": "pFONUhEqGU4s",
   "metadata": {
    "colab": {
     "base_uri": "https://localhost:8080/",
     "height": 389
    },
    "executionInfo": {
     "elapsed": 1569,
     "status": "ok",
     "timestamp": 1640763142443,
     "user": {
      "displayName": "한기영",
      "photoUrl": "https://lh3.googleusercontent.com/a/default-user=s64",
      "userId": "13049187003176135487"
     },
     "user_tz": -540
    },
    "id": "pFONUhEqGU4s",
    "outputId": "fce4760c-45b5-467e-9b29-b3ae1992a694"
   },
   "outputs": [],
   "source": []
  },
  {
   "cell_type": "markdown",
   "id": "naDxd1mkGU4s",
   "metadata": {
    "id": "naDxd1mkGU4s"
   },
   "source": [
    "* 추가로 무엇을 / 어떻게 분석을 해볼 수 있을까요?"
   ]
  },
  {
   "cell_type": "code",
   "execution_count": null,
   "id": "CDwTTOljGU4t",
   "metadata": {
    "id": "CDwTTOljGU4t"
   },
   "outputs": [],
   "source": []
  }
 ],
 "metadata": {
  "colab": {
   "collapsed_sections": [],
   "name": "12과 시계열 데이터.ipynb",
   "provenance": [],
   "toc_visible": true
  },
  "kernelspec": {
   "display_name": "Python 3",
   "language": "python",
   "name": "python3"
  },
  "language_info": {
   "codemirror_mode": {
    "name": "ipython",
    "version": 3
   },
   "file_extension": ".py",
   "mimetype": "text/x-python",
   "name": "python",
   "nbconvert_exporter": "python",
   "pygments_lexer": "ipython3",
   "version": "3.8.8"
  }
 },
 "nbformat": 4,
 "nbformat_minor": 5
}
